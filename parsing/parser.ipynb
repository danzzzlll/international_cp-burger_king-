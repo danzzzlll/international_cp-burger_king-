{
 "cells": [
  {
   "cell_type": "code",
   "execution_count": 35,
   "id": "adbce60f-84af-499e-a814-25e940be7a56",
   "metadata": {},
   "outputs": [],
   "source": [
    "from bs4 import BeautifulSoup\n",
    "import requests\n",
    "import time"
   ]
  },
  {
   "cell_type": "code",
   "execution_count": 18,
   "id": "a5c57a13-def6-4951-9041-ff9870bcf17e",
   "metadata": {},
   "outputs": [],
   "source": [
    "url = 'https://burgerkingrus.ru/'\n",
    "\n",
    "headers = {\n",
    "    'User-Agent': 'Mozilla/5.0 (Windows NT 10.0; Win64; x64) AppleWebKit/537.36 (KHTML, like Gecko) Chrome/58.0.3029.110 Safari/537.3'\n",
    "}\n"
   ]
  },
  {
   "cell_type": "code",
   "execution_count": 19,
   "id": "2725d466-18d3-445e-884c-10c74cb25011",
   "metadata": {},
   "outputs": [],
   "source": [
    "page = requests.get(url, headers=headers)"
   ]
  },
  {
   "cell_type": "code",
   "execution_count": 89,
   "id": "afdb402e-a29a-4911-ba63-1667d6627e46",
   "metadata": {},
   "outputs": [],
   "source": [
    "# selenium"
   ]
  },
  {
   "cell_type": "code",
   "execution_count": 75,
   "id": "f545ef7b-01a7-4a2a-b445-793f3b0f98a1",
   "metadata": {},
   "outputs": [],
   "source": [
    "import time\n",
    "\n",
    "# Инициализация драйвера браузера (в этом примере используется Chrome)\n",
    "driver = webdriver.Chrome()\n",
    "\n",
    "# Открытие веб-страницы\n",
    "driver.get('https://burgerkingrus.ru/')\n",
    "\n",
    "# Получение высоты страницы\n",
    "total_height = driver.execute_script(\"return document.body.scrollHeight\")\n",
    "\n",
    "# Установка шага прокрутки и задержки\n",
    "scroll_step = total_height / 20\n",
    "scroll_delay = 0.5\n",
    "\n",
    "# Медленная прокрутка страницы вниз\n",
    "for i in range(100):\n",
    "    driver.execute_script(f\"window.scrollTo(0, {scroll_step * (i + 1)});\")\n",
    "    time.sleep(scroll_delay)\n",
    "\n",
    "page = driver.page_source\n",
    "# Закрытие браузера\n",
    "driver.quit()"
   ]
  },
  {
   "cell_type": "markdown",
   "id": "67c11744-e54b-4c00-9492-b508ef518dc9",
   "metadata": {},
   "source": [
    "## bs4"
   ]
  },
  {
   "cell_type": "code",
   "execution_count": 249,
   "id": "a71e71ac-afc9-4421-9761-3f26c4b5df2a",
   "metadata": {},
   "outputs": [],
   "source": [
    "# список исключений для категорий\n",
    "exception_list = ['Новинки', 'Кинг Комбо',\n",
    "                  'Кинг Сет', 'Кинг Топ Обед', \n",
    "                  'Купоны']"
   ]
  },
  {
   "cell_type": "code",
   "execution_count": 250,
   "id": "1c5085fc-93e2-4a4b-80df-44e034c1d181",
   "metadata": {},
   "outputs": [],
   "source": [
    "from bs4 import BeautifulSoup\n",
    "\n",
    "# Предположим, что page_source - это ваш HTML\n",
    "soup = BeautifulSoup(page, 'html.parser')\n",
    "\n",
    "# Находим все блоки категорий\n",
    "category_blocks = soup.find_all(class_='bk-category-block')\n",
    "\n",
    "result_list = []\n",
    "\n",
    "# Для каждого блока категории\n",
    "for category_block in category_blocks:\n",
    "    # Находим название категории\n",
    "    category_title = category_block.find(class_='bk-category__title').text.strip().replace('\\n', '')\n",
    "    if category_title in exception_list: # скипаем бяку\n",
    "        continue\n",
    "\n",
    "    # Находим все блюда в этой категории\n",
    "    dishes = category_block.find_all(class_='bk-dish-card')\n",
    "    # Для каждого блюда\n",
    "    for dish in dishes:\n",
    "        # Находим название блюда\n",
    "        dish_title = dish.find(class_='bk-dish-card__title').text.strip().replace('\\n', '')\n",
    "\n",
    "        # Находим цену блюда\n",
    "        dish_price = dish.find(class_='bk-price').text.strip().replace('\\n', '')\n",
    "\n",
    "        # Выводим информацию\n",
    "        result_list.append((dish_title,category_title, dish_price))\n",
    "       # print(f'Category: {category_title}, Dish: {dish_title}, Price: {dish_price}')\n"
   ]
  },
  {
   "cell_type": "code",
   "execution_count": 251,
   "id": "130beb93-5ad2-4b18-ac67-e274b8e37029",
   "metadata": {},
   "outputs": [
    {
     "data": {
      "text/plain": [
       "223"
      ]
     },
     "execution_count": 251,
     "metadata": {},
     "output_type": "execute_result"
    }
   ],
   "source": [
    "len(result_list)"
   ]
  },
  {
   "cell_type": "code",
   "execution_count": 252,
   "id": "6e46ccdf-3042-42b0-b5a4-2650cf959012",
   "metadata": {},
   "outputs": [
    {
     "data": {
      "text/html": [
       "<div>\n",
       "<style scoped>\n",
       "    .dataframe tbody tr th:only-of-type {\n",
       "        vertical-align: middle;\n",
       "    }\n",
       "\n",
       "    .dataframe tbody tr th {\n",
       "        vertical-align: top;\n",
       "    }\n",
       "\n",
       "    .dataframe thead th {\n",
       "        text-align: right;\n",
       "    }\n",
       "</style>\n",
       "<table border=\"1\" class=\"dataframe\">\n",
       "  <thead>\n",
       "    <tr style=\"text-align: right;\">\n",
       "      <th></th>\n",
       "      <th>item_name</th>\n",
       "      <th>item_category</th>\n",
       "      <th>item_price</th>\n",
       "    </tr>\n",
       "  </thead>\n",
       "  <tbody>\n",
       "    <tr>\n",
       "      <th>0</th>\n",
       "      <td>Острый Сибирский Кинг</td>\n",
       "      <td>Острые бургеры</td>\n",
       "      <td>319.99</td>\n",
       "    </tr>\n",
       "    <tr>\n",
       "      <th>1</th>\n",
       "      <td>Острый Сибирский Кинг Двойной</td>\n",
       "      <td>Острые бургеры</td>\n",
       "      <td>429.99</td>\n",
       "    </tr>\n",
       "    <tr>\n",
       "      <th>2</th>\n",
       "      <td>Острый Сибирский Кинг с курицей</td>\n",
       "      <td>Острые бургеры</td>\n",
       "      <td>329.99</td>\n",
       "    </tr>\n",
       "    <tr>\n",
       "      <th>3</th>\n",
       "      <td>Острый Чикен Тар-Тар</td>\n",
       "      <td>Острые бургеры</td>\n",
       "      <td>219.99</td>\n",
       "    </tr>\n",
       "    <tr>\n",
       "      <th>4</th>\n",
       "      <td>Острый Цезарь Ролл Со Стрипсами</td>\n",
       "      <td>Острые бургеры</td>\n",
       "      <td>289.99</td>\n",
       "    </tr>\n",
       "    <tr>\n",
       "      <th>...</th>\n",
       "      <td>...</td>\n",
       "      <td>...</td>\n",
       "      <td>...</td>\n",
       "    </tr>\n",
       "    <tr>\n",
       "      <th>218</th>\n",
       "      <td>Салат Цезарь с креветками</td>\n",
       "      <td>Салаты</td>\n",
       "      <td>389.99</td>\n",
       "    </tr>\n",
       "    <tr>\n",
       "      <th>219</th>\n",
       "      <td>Жевательная резинка Орбит сладкая мята</td>\n",
       "      <td>Дополнительно</td>\n",
       "      <td>49.99</td>\n",
       "    </tr>\n",
       "    <tr>\n",
       "      <th>220</th>\n",
       "      <td>Бумажный пакет</td>\n",
       "      <td>Дополнительно</td>\n",
       "      <td>19.99</td>\n",
       "    </tr>\n",
       "    <tr>\n",
       "      <th>221</th>\n",
       "      <td>Жевательная резинка Орбит bubblemint</td>\n",
       "      <td>Дополнительно</td>\n",
       "      <td>49.99</td>\n",
       "    </tr>\n",
       "    <tr>\n",
       "      <th>222</th>\n",
       "      <td>Влажная салфетка</td>\n",
       "      <td>Дополнительно</td>\n",
       "      <td>9.99</td>\n",
       "    </tr>\n",
       "  </tbody>\n",
       "</table>\n",
       "<p>223 rows × 3 columns</p>\n",
       "</div>"
      ],
      "text/plain": [
       "                                  item_name   item_category item_price\n",
       "0                     Острый Сибирский Кинг  Острые бургеры     319.99\n",
       "1             Острый Сибирский Кинг Двойной  Острые бургеры     429.99\n",
       "2           Острый Сибирский Кинг с курицей  Острые бургеры     329.99\n",
       "3                      Острый Чикен Тар-Тар  Острые бургеры     219.99\n",
       "4           Острый Цезарь Ролл Со Стрипсами  Острые бургеры     289.99\n",
       "..                                      ...             ...        ...\n",
       "218               Салат Цезарь с креветками          Салаты     389.99\n",
       "219  Жевательная резинка Орбит сладкая мята   Дополнительно      49.99\n",
       "220                          Бумажный пакет   Дополнительно      19.99\n",
       "221    Жевательная резинка Орбит bubblemint   Дополнительно      49.99\n",
       "222                        Влажная салфетка   Дополнительно       9.99\n",
       "\n",
       "[223 rows x 3 columns]"
      ]
     },
     "execution_count": 252,
     "metadata": {},
     "output_type": "execute_result"
    }
   ],
   "source": [
    "parsing_df = pd.DataFrame(result_list, columns=['item_name', 'item_category', 'item_price'])\n",
    "\n",
    "# Вывод DataFrame\n",
    "parsing_df"
   ]
  },
  {
   "cell_type": "code",
   "execution_count": 253,
   "id": "dd809c62-9358-40d2-bab7-9c15974e46d6",
   "metadata": {},
   "outputs": [],
   "source": [
    "parsing_df.to_csv('parsing_df.csv')"
   ]
  },
  {
   "cell_type": "code",
   "execution_count": 254,
   "id": "0d9746ca-916a-4938-87f0-8e2b2df21374",
   "metadata": {
    "scrolled": true
   },
   "outputs": [
    {
     "data": {
      "text/plain": [
       "array(['Острые бургеры', 'Острые закуски', 'Острый картофель', 'Говядина',\n",
       "       'Курица', 'Рыба', 'Креветки', 'Роллы', 'Соусы', 'Картофель',\n",
       "       'Закуски', 'Холодные напитки', 'Пиво', 'Горячие напитки',\n",
       "       'Молочные коктейли', 'Десерты', 'А4 Бокс', 'Салаты',\n",
       "       'Дополнительно'], dtype=object)"
      ]
     },
     "execution_count": 254,
     "metadata": {},
     "output_type": "execute_result"
    }
   ],
   "source": [
    "parsing_df.item_category.unique()"
   ]
  },
  {
   "cell_type": "code",
   "execution_count": 256,
   "id": "cb285498-1f0d-4374-a41d-345a284ab4a7",
   "metadata": {
    "scrolled": true
   },
   "outputs": [],
   "source": [
    "# Группировка данных по названию товара и объединение категорий\n",
    "grouped = parsing_df.groupby('item_name').agg({\n",
    "    'item_category': lambda x: ', '.join(x.unique()),\n",
    "    'item_price': 'first'\n",
    "}).reset_index()\n"
   ]
  },
  {
   "cell_type": "code",
   "execution_count": 257,
   "id": "b79ec0e2-04ce-4b16-9a05-c9f023bffab5",
   "metadata": {},
   "outputs": [
    {
     "data": {
      "text/html": [
       "<div>\n",
       "<style scoped>\n",
       "    .dataframe tbody tr th:only-of-type {\n",
       "        vertical-align: middle;\n",
       "    }\n",
       "\n",
       "    .dataframe tbody tr th {\n",
       "        vertical-align: top;\n",
       "    }\n",
       "\n",
       "    .dataframe thead th {\n",
       "        text-align: right;\n",
       "    }\n",
       "</style>\n",
       "<table border=\"1\" class=\"dataframe\">\n",
       "  <thead>\n",
       "    <tr style=\"text-align: right;\">\n",
       "      <th></th>\n",
       "      <th>item_name</th>\n",
       "      <th>item_category</th>\n",
       "      <th>item_price</th>\n",
       "    </tr>\n",
       "  </thead>\n",
       "  <tbody>\n",
       "    <tr>\n",
       "      <th>0</th>\n",
       "      <td>2 Соуса На Выбор</td>\n",
       "      <td>Соусы</td>\n",
       "      <td>79.99</td>\n",
       "    </tr>\n",
       "    <tr>\n",
       "      <th>1</th>\n",
       "      <td>2 сырных соуса</td>\n",
       "      <td>Соусы</td>\n",
       "      <td>79.99</td>\n",
       "    </tr>\n",
       "    <tr>\n",
       "      <th>2</th>\n",
       "      <td>3 Соуса На Выбор</td>\n",
       "      <td>Соусы</td>\n",
       "      <td>99.99</td>\n",
       "    </tr>\n",
       "    <tr>\n",
       "      <th>3</th>\n",
       "      <td>6 соусов на выбор</td>\n",
       "      <td>Соусы</td>\n",
       "      <td>199.99</td>\n",
       "    </tr>\n",
       "    <tr>\n",
       "      <th>4</th>\n",
       "      <td>Flash Up</td>\n",
       "      <td>Холодные напитки</td>\n",
       "      <td>89.99</td>\n",
       "    </tr>\n",
       "  </tbody>\n",
       "</table>\n",
       "</div>"
      ],
      "text/plain": [
       "           item_name     item_category item_price\n",
       "0   2 Соуса На Выбор             Соусы      79.99\n",
       "1     2 сырных соуса             Соусы      79.99\n",
       "2   3 Соуса На Выбор             Соусы      99.99\n",
       "3  6 соусов на выбор             Соусы     199.99\n",
       "4           Flash Up  Холодные напитки      89.99"
      ]
     },
     "execution_count": 257,
     "metadata": {},
     "output_type": "execute_result"
    }
   ],
   "source": [
    "grouped.head()"
   ]
  },
  {
   "cell_type": "markdown",
   "id": "21a92b95-fdde-43bb-bc5f-52ae9a241ff3",
   "metadata": {},
   "source": [
    "## read data"
   ]
  },
  {
   "cell_type": "code",
   "execution_count": 258,
   "id": "cb6e29dc-ef56-47d2-a017-44add9a64f5a",
   "metadata": {},
   "outputs": [],
   "source": [
    "train_df = pd.read_parquet('data/train_dataset_hackaton2023_train.gzip')"
   ]
  },
  {
   "cell_type": "code",
   "execution_count": 259,
   "id": "6287a5da-966d-4156-ab3b-d02ad5c674a0",
   "metadata": {},
   "outputs": [],
   "source": [
    "test_df = pd.read_parquet('data/hackaton2023_test.gzip')"
   ]
  },
  {
   "cell_type": "code",
   "execution_count": 260,
   "id": "632e602c-4c08-48bd-9615-4667b4413d49",
   "metadata": {},
   "outputs": [],
   "source": [
    "test_dishes = set(test_df.dish_name.unique())"
   ]
  },
  {
   "cell_type": "code",
   "execution_count": 261,
   "id": "82d9dc6a-7bb9-46c5-bd0b-bc62fe3d941d",
   "metadata": {},
   "outputs": [],
   "source": [
    "train_dishes = set(train_df.dish_name.unique())"
   ]
  },
  {
   "cell_type": "code",
   "execution_count": 262,
   "id": "eab91da1-0252-44ae-a329-df6ced126f12",
   "metadata": {},
   "outputs": [],
   "source": [
    "unique_test_dishes = test_dishes - train_dishes"
   ]
  },
  {
   "cell_type": "code",
   "execution_count": 263,
   "id": "83e8ccbe-929d-43a3-9552-5d260caba1de",
   "metadata": {
    "scrolled": true
   },
   "outputs": [],
   "source": [
    "test_uniq_list = list(unique_test_dishes)"
   ]
  },
  {
   "cell_type": "markdown",
   "id": "302dabce-d4d2-4315-8893-4c9bc66e54d1",
   "metadata": {},
   "source": [
    "# comparing"
   ]
  },
  {
   "cell_type": "code",
   "execution_count": 462,
   "id": "ac3ea3b8-bc0b-42f4-8961-cbe56e4cdf2b",
   "metadata": {},
   "outputs": [],
   "source": [
    "from fuzzywuzzy import process\n",
    "from tqdm import tqdm\n",
    "import numpy as np\n",
    "\n",
    "def match_name(name, list_names, min_score=0):\n",
    "    # Находим наиболее похожее имя в list_names к данному name\n",
    "    max_score = -1\n",
    "    max_name = \"\"\n",
    "    for name2 in list_names:\n",
    "        score = process.extractOne(name, [name2])[1]\n",
    "        if (score > min_score) & (score > max_score):\n",
    "            max_name = name2\n",
    "            max_score = score\n",
    "   # print(f'{name}-{max_name}-{max_score}')\n",
    "    if max_score < min_score:\n",
    "        return np.nan, np.nan\n",
    "    return max_name, max_score\n",
    "\n",
    "names = grouped['item_name'].tolist()\n",
    "\n",
    "# Создаем новый DataFrame только с уникальными названиями продуктов\n",
    "unique_train_df = pd.DataFrame(train_df['dish_name'].unique(), columns=['dish_name']) # point\n",
    "updated_unique_train_df = pd.concat([unique_train_df, test_uniq_df], ignore_index=True)\n",
    "\n",
    "# Применяем функцию к каждому уникальному имени продукта в train_df\n",
    "# Добавляем progress bar с помощью tqdm\n",
    "updated_unique_train_df['matched_name'] = [match_name(x, names, 87)[0] for x in updated_unique_train_df['dish_name']] # in tqdm(...)\n",
    "\n",
    "# Теперь можно смержить два датафрейма по совпадающим именам\n",
    "merged_df = pd.merge(updated_unique_train_df, grouped, left_on='matched_name', right_on='item_name', how='left')\n"
   ]
  },
  {
   "cell_type": "code",
   "execution_count": 463,
   "id": "4bfd7fd9-42c1-4b90-be5a-046630d8df65",
   "metadata": {},
   "outputs": [
    {
     "data": {
      "text/plain": [
       "1049"
      ]
     },
     "execution_count": 463,
     "metadata": {},
     "output_type": "execute_result"
    }
   ],
   "source": [
    "len(merged_df)"
   ]
  },
  {
   "cell_type": "code",
   "execution_count": 464,
   "id": "2d65396b-6c0f-43fc-8b33-c359fc465b88",
   "metadata": {},
   "outputs": [],
   "source": [
    "# Преобразование test_uniq_list в DataFrame\n",
    "test_uniq_df = pd.DataFrame(test_uniq_list, columns=['dish_name'])\n",
    "\n",
    "# Объединение unique_train_df с test_uniq_df\n",
    "updated_unique_train_df = pd.concat([unique_train_df, test_uniq_df], ignore_index=True)"
   ]
  },
  {
   "cell_type": "code",
   "execution_count": 465,
   "id": "dd5d2e06-594f-415f-b3b9-58d1f84d2852",
   "metadata": {},
   "outputs": [],
   "source": [
    "def categorize_dish(dish_name):\n",
    "    dish_name = dish_name.lower()\n",
    "    # Картофель\n",
    "    if \"карт.\" in dish_name:\n",
    "        return \"Картофель\"\n",
    "    \n",
    "    # Десерты\n",
    "    elif \"сандэй\" in dish_name or \"маффин\" in dish_name or 'мороженое' in dish_name or 'улитка' in dish_name:\n",
    "        return \"Десерты\"\n",
    "\n",
    "    # Соус\n",
    "    elif 'соус' in dish_name:\n",
    "        return 'Соусы'\n",
    "\n",
    "    # Пиво\n",
    "    elif \"пиво\" in dish_name:\n",
    "        return \"Пиво\"\n",
    "\n",
    "    # Молочные коктейли\n",
    "    elif \"шейк\" in dish_name:\n",
    "        return \"молочные коктейли\"\n",
    "\n",
    "    # А4 Бокс\n",
    "    elif \"a4\" in dish_name or 'а4' in dish_name:\n",
    "        return \"А4 Бокс\"\n",
    "\n",
    "    # Закуски\n",
    "    elif \"догпер\" in dish_name or \"чипсы\" in dish_name or \"начос\" in dish_name or \"сухарики\" in dish_name:\n",
    "        return \"Закуски\"\n",
    "\n",
    "    # Холодные напитки\n",
    "    elif \"миринда\" in dish_name or \"пепси\" in dish_name or \"севен ап\" in dish_name or \"сок\" in dish_name or \\\n",
    "         \"адреналин\" in dish_name or \"эвервесс\" in dish_name or \"кола\" in dish_name or \\\n",
    "         \"липтон\" in dish_name or \"байкал\" in dish_name or \"мандарин\" in dish_name or \\\n",
    "         \"лимонад\" in dish_name:\n",
    "        return \"Холодные напитки\"\n",
    "\n",
    "        # Курица [перед говядиной должна быть]\n",
    "    elif \"инди\" in dish_name or \"чикен\" in dish_name or 'курицей' in dish_name or 'стрипс' in dish_name:\n",
    "        return \"Курица\"\n",
    "\n",
    "    # Говядина\n",
    "    elif \"сырбургер\" in dish_name or \"беконайзер\" in dish_name or \"стейкхаус\" in dish_name or 'воппер' in dish_name or \\\n",
    "         \"ангус\" in dish_name or \"конверт\" in dish_name or \"мясной\" in dish_name or \"тильзитер\" in dish_name or 'итальяно':\n",
    "        return \"Говядина\"\n",
    "\n",
    "    # Дополнительно\n",
    "    elif \"антисептик\" in dish_name or \"пакет\" in dish_name or \"3d-патч\" in dish_name or \\\n",
    "        \"комикс\" in dish_name or \"игрушка\" in dish_name or 'стикстер' in dish_name:\n",
    "        return \"Дополнительно\"\n",
    "\n",
    "\n",
    "    return np.nan  # Значение по умолчанию, если не совпадает ни с одной категорией\n"
   ]
  },
  {
   "cell_type": "code",
   "execution_count": 466,
   "id": "5a60ca3d-2432-4077-a03b-4677ba354ce8",
   "metadata": {},
   "outputs": [],
   "source": [
    "merged_df.loc[merged_df['item_price'].isna(), 'item_category'] = merged_df['dish_name'].apply(categorize_dish)"
   ]
  },
  {
   "cell_type": "code",
   "execution_count": 467,
   "id": "22ce8345-da1c-471f-8af0-fdd2c9d0a239",
   "metadata": {},
   "outputs": [],
   "source": [
    "nan_merged_df = merged_df[merged_df['item_category'].isnull()]"
   ]
  },
  {
   "cell_type": "code",
   "execution_count": 468,
   "id": "940cc8af-40d5-4c53-9946-d9eae7ad77b6",
   "metadata": {},
   "outputs": [
    {
     "data": {
      "text/html": [
       "<div>\n",
       "<style scoped>\n",
       "    .dataframe tbody tr th:only-of-type {\n",
       "        vertical-align: middle;\n",
       "    }\n",
       "\n",
       "    .dataframe tbody tr th {\n",
       "        vertical-align: top;\n",
       "    }\n",
       "\n",
       "    .dataframe thead th {\n",
       "        text-align: right;\n",
       "    }\n",
       "</style>\n",
       "<table border=\"1\" class=\"dataframe\">\n",
       "  <thead>\n",
       "    <tr style=\"text-align: right;\">\n",
       "      <th></th>\n",
       "      <th>dish_name</th>\n",
       "      <th>matched_name</th>\n",
       "      <th>item_name</th>\n",
       "      <th>item_category</th>\n",
       "      <th>item_price</th>\n",
       "    </tr>\n",
       "  </thead>\n",
       "  <tbody>\n",
       "  </tbody>\n",
       "</table>\n",
       "</div>"
      ],
      "text/plain": [
       "Empty DataFrame\n",
       "Columns: [dish_name, matched_name, item_name, item_category, item_price]\n",
       "Index: []"
      ]
     },
     "execution_count": 468,
     "metadata": {},
     "output_type": "execute_result"
    }
   ],
   "source": [
    "nan_merged_df"
   ]
  },
  {
   "cell_type": "code",
   "execution_count": 469,
   "id": "a0aa655c-b969-496a-89d1-3a1ca3efda59",
   "metadata": {},
   "outputs": [],
   "source": [
    "nan_merged_df.to_excel('nan.xlsx')"
   ]
  },
  {
   "cell_type": "code",
   "execution_count": 470,
   "id": "e5b1fa9a-d72f-4b09-91cf-4e377cb03367",
   "metadata": {},
   "outputs": [],
   "source": [
    "merged_df = merged_df.drop('matched_name', axis=1)"
   ]
  },
  {
   "cell_type": "code",
   "execution_count": 471,
   "id": "595968f3-76d9-4fdb-89a9-04647eabf55f",
   "metadata": {
    "scrolled": true
   },
   "outputs": [
    {
     "data": {
      "text/html": [
       "<div>\n",
       "<style scoped>\n",
       "    .dataframe tbody tr th:only-of-type {\n",
       "        vertical-align: middle;\n",
       "    }\n",
       "\n",
       "    .dataframe tbody tr th {\n",
       "        vertical-align: top;\n",
       "    }\n",
       "\n",
       "    .dataframe thead th {\n",
       "        text-align: right;\n",
       "    }\n",
       "</style>\n",
       "<table border=\"1\" class=\"dataframe\">\n",
       "  <thead>\n",
       "    <tr style=\"text-align: right;\">\n",
       "      <th></th>\n",
       "      <th>dish_name</th>\n",
       "      <th>item_name</th>\n",
       "      <th>item_category</th>\n",
       "      <th>item_price</th>\n",
       "    </tr>\n",
       "  </thead>\n",
       "  <tbody>\n",
       "    <tr>\n",
       "      <th>0</th>\n",
       "      <td>Кинг Фри станд</td>\n",
       "      <td>Кинг Фри</td>\n",
       "      <td>Картофель</td>\n",
       "      <td>84.99</td>\n",
       "    </tr>\n",
       "    <tr>\n",
       "      <th>1</th>\n",
       "      <td>Чикен Тар-Тар</td>\n",
       "      <td>Чикен Тар-Тар</td>\n",
       "      <td>Курица</td>\n",
       "      <td>205.99</td>\n",
       "    </tr>\n",
       "    <tr>\n",
       "      <th>2</th>\n",
       "      <td>Соус Сырный</td>\n",
       "      <td>Соус Сырный</td>\n",
       "      <td>Соусы</td>\n",
       "      <td>49.99</td>\n",
       "    </tr>\n",
       "    <tr>\n",
       "      <th>3</th>\n",
       "      <td>Энергет.нап. Адреналин Раш</td>\n",
       "      <td>NaN</td>\n",
       "      <td>Холодные напитки</td>\n",
       "      <td>NaN</td>\n",
       "    </tr>\n",
       "    <tr>\n",
       "      <th>4</th>\n",
       "      <td>Латте (СТАНД.)</td>\n",
       "      <td>Латте</td>\n",
       "      <td>Горячие напитки</td>\n",
       "      <td>69.99</td>\n",
       "    </tr>\n",
       "    <tr>\n",
       "      <th>...</th>\n",
       "      <td>...</td>\n",
       "      <td>...</td>\n",
       "      <td>...</td>\n",
       "      <td>...</td>\n",
       "    </tr>\n",
       "    <tr>\n",
       "      <th>1044</th>\n",
       "      <td>Up Латте Ваниль (БОЛ.) за 1руб</td>\n",
       "      <td>Латте</td>\n",
       "      <td>Горячие напитки</td>\n",
       "      <td>69.99</td>\n",
       "    </tr>\n",
       "    <tr>\n",
       "      <th>1045</th>\n",
       "      <td>Севен Ап XL 1л</td>\n",
       "      <td>NaN</td>\n",
       "      <td>Холодные напитки</td>\n",
       "      <td>NaN</td>\n",
       "    </tr>\n",
       "    <tr>\n",
       "      <th>1046</th>\n",
       "      <td>Up Чеддер Начос Кинг с курицей</td>\n",
       "      <td>NaN</td>\n",
       "      <td>Закуски</td>\n",
       "      <td>NaN</td>\n",
       "    </tr>\n",
       "    <tr>\n",
       "      <th>1047</th>\n",
       "      <td>lim.Кола без сахара мал 0,4</td>\n",
       "      <td>Кола без сахара</td>\n",
       "      <td>Холодные напитки</td>\n",
       "      <td>109.99</td>\n",
       "    </tr>\n",
       "    <tr>\n",
       "      <th>1048</th>\n",
       "      <td>Острый Тройной Воппер</td>\n",
       "      <td>Воппер</td>\n",
       "      <td>Говядина</td>\n",
       "      <td>269.99</td>\n",
       "    </tr>\n",
       "  </tbody>\n",
       "</table>\n",
       "<p>1049 rows × 4 columns</p>\n",
       "</div>"
      ],
      "text/plain": [
       "                           dish_name        item_name     item_category   \n",
       "0                     Кинг Фри станд         Кинг Фри         Картофель  \\\n",
       "1                      Чикен Тар-Тар    Чикен Тар-Тар            Курица   \n",
       "2                        Соус Сырный      Соус Сырный             Соусы   \n",
       "3         Энергет.нап. Адреналин Раш              NaN  Холодные напитки   \n",
       "4                     Латте (СТАНД.)            Латте   Горячие напитки   \n",
       "...                              ...              ...               ...   \n",
       "1044  Up Латте Ваниль (БОЛ.) за 1руб            Латте   Горячие напитки   \n",
       "1045                  Севен Ап XL 1л              NaN  Холодные напитки   \n",
       "1046  Up Чеддер Начос Кинг с курицей              NaN           Закуски   \n",
       "1047     lim.Кола без сахара мал 0,4  Кола без сахара  Холодные напитки   \n",
       "1048           Острый Тройной Воппер           Воппер          Говядина   \n",
       "\n",
       "     item_price  \n",
       "0         84.99  \n",
       "1        205.99  \n",
       "2         49.99  \n",
       "3           NaN  \n",
       "4         69.99  \n",
       "...         ...  \n",
       "1044      69.99  \n",
       "1045        NaN  \n",
       "1046        NaN  \n",
       "1047     109.99  \n",
       "1048     269.99  \n",
       "\n",
       "[1049 rows x 4 columns]"
      ]
     },
     "execution_count": 471,
     "metadata": {},
     "output_type": "execute_result"
    }
   ],
   "source": [
    "merged_df"
   ]
  },
  {
   "cell_type": "code",
   "execution_count": 472,
   "id": "799e2f64-35be-404f-9044-c9363820f4c3",
   "metadata": {
    "scrolled": true
   },
   "outputs": [
    {
     "data": {
      "text/plain": [
       "(12129384, 9)"
      ]
     },
     "execution_count": 472,
     "metadata": {},
     "output_type": "execute_result"
    }
   ],
   "source": [
    "train_df.shape"
   ]
  },
  {
   "cell_type": "code",
   "execution_count": 473,
   "id": "aeb44a4e-b64d-494b-a65f-da0fc5159786",
   "metadata": {},
   "outputs": [],
   "source": [
    "# Предположим, что df1 - это ваш первый DataFrame, а df2 - второй\n",
    "train_m_df = train_df.merge(merged_df, left_on='dish_name', right_on='dish_name', how='left')\n"
   ]
  },
  {
   "cell_type": "code",
   "execution_count": 474,
   "id": "c31b8c8d-0b73-4fe0-adac-0c7d12487163",
   "metadata": {},
   "outputs": [
    {
     "data": {
      "text/plain": [
       "0"
      ]
     },
     "execution_count": 474,
     "metadata": {},
     "output_type": "execute_result"
    }
   ],
   "source": [
    "train_m_df.item_category.isna().sum()"
   ]
  },
  {
   "cell_type": "code",
   "execution_count": 479,
   "id": "163257bc-2f84-4193-825b-b4b87d8384fe",
   "metadata": {},
   "outputs": [],
   "source": [
    "merged_df.to_csv('parsing_categories.csv')"
   ]
  },
  {
   "cell_type": "code",
   "execution_count": 476,
   "id": "cabfec7a-5b69-40e9-9e5a-492954aacb59",
   "metadata": {},
   "outputs": [
    {
     "data": {
      "text/plain": [
       "29"
      ]
     },
     "execution_count": 476,
     "metadata": {},
     "output_type": "execute_result"
    }
   ],
   "source": [
    "merged_df.item_category.nunique()"
   ]
  },
  {
   "cell_type": "code",
   "execution_count": 477,
   "id": "118da311-c998-4a8d-b042-57198758ebeb",
   "metadata": {},
   "outputs": [
    {
     "data": {
      "text/plain": [
       "array(['Картофель', 'Курица', 'Соусы', 'Холодные напитки',\n",
       "       'Горячие напитки', 'Говядина', 'Роллы', 'Закуски', 'Дополнительно',\n",
       "       'Десерты',\n",
       "       'Острые закуски, Острый картофель, Соусы, Картофель, Закуски',\n",
       "       'Острые закуски, Закуски', 'А4 Бокс', 'молочные коктейли',\n",
       "       'Креветки, Закуски', 'Острые бургеры, Говядина', 'Рыба',\n",
       "       'Острые бургеры, Рыба',\n",
       "       'Холодные напитки, Молочные коктейли, Десерты', 'Пиво',\n",
       "       'Острые закуски, Острый картофель, Картофель, Закуски',\n",
       "       'Острый картофель, Картофель', 'Острые бургеры, Роллы',\n",
       "       'Креветки, Салаты', 'Холодные напитки, Пиво',\n",
       "       'Острые закуски, Креветки, Закуски', 'Острые бургеры, Курица',\n",
       "       'Картофель, А4 Бокс', 'Салаты'], dtype=object)"
      ]
     },
     "execution_count": 477,
     "metadata": {},
     "output_type": "execute_result"
    }
   ],
   "source": [
    "merged_df.item_category.unique()"
   ]
  },
  {
   "cell_type": "code",
   "execution_count": 478,
   "id": "cdaca163-a1b3-49d3-b1e9-e08ba50d13b6",
   "metadata": {},
   "outputs": [
    {
     "data": {
      "text/html": [
       "<div>\n",
       "<style scoped>\n",
       "    .dataframe tbody tr th:only-of-type {\n",
       "        vertical-align: middle;\n",
       "    }\n",
       "\n",
       "    .dataframe tbody tr th {\n",
       "        vertical-align: top;\n",
       "    }\n",
       "\n",
       "    .dataframe thead th {\n",
       "        text-align: right;\n",
       "    }\n",
       "</style>\n",
       "<table border=\"1\" class=\"dataframe\">\n",
       "  <thead>\n",
       "    <tr style=\"text-align: right;\">\n",
       "      <th></th>\n",
       "      <th>dish_name</th>\n",
       "      <th>item_name</th>\n",
       "      <th>item_category</th>\n",
       "      <th>item_price</th>\n",
       "    </tr>\n",
       "  </thead>\n",
       "  <tbody>\n",
       "    <tr>\n",
       "      <th>0</th>\n",
       "      <td>Кинг Фри станд</td>\n",
       "      <td>Кинг Фри</td>\n",
       "      <td>Картофель</td>\n",
       "      <td>84.99</td>\n",
       "    </tr>\n",
       "    <tr>\n",
       "      <th>1</th>\n",
       "      <td>Чикен Тар-Тар</td>\n",
       "      <td>Чикен Тар-Тар</td>\n",
       "      <td>Курица</td>\n",
       "      <td>205.99</td>\n",
       "    </tr>\n",
       "    <tr>\n",
       "      <th>2</th>\n",
       "      <td>Соус Сырный</td>\n",
       "      <td>Соус Сырный</td>\n",
       "      <td>Соусы</td>\n",
       "      <td>49.99</td>\n",
       "    </tr>\n",
       "    <tr>\n",
       "      <th>3</th>\n",
       "      <td>Энергет.нап. Адреналин Раш</td>\n",
       "      <td>NaN</td>\n",
       "      <td>Холодные напитки</td>\n",
       "      <td>NaN</td>\n",
       "    </tr>\n",
       "    <tr>\n",
       "      <th>4</th>\n",
       "      <td>Латте (СТАНД.)</td>\n",
       "      <td>Латте</td>\n",
       "      <td>Горячие напитки</td>\n",
       "      <td>69.99</td>\n",
       "    </tr>\n",
       "    <tr>\n",
       "      <th>...</th>\n",
       "      <td>...</td>\n",
       "      <td>...</td>\n",
       "      <td>...</td>\n",
       "      <td>...</td>\n",
       "    </tr>\n",
       "    <tr>\n",
       "      <th>1044</th>\n",
       "      <td>Up Латте Ваниль (БОЛ.) за 1руб</td>\n",
       "      <td>Латте</td>\n",
       "      <td>Горячие напитки</td>\n",
       "      <td>69.99</td>\n",
       "    </tr>\n",
       "    <tr>\n",
       "      <th>1045</th>\n",
       "      <td>Севен Ап XL 1л</td>\n",
       "      <td>NaN</td>\n",
       "      <td>Холодные напитки</td>\n",
       "      <td>NaN</td>\n",
       "    </tr>\n",
       "    <tr>\n",
       "      <th>1046</th>\n",
       "      <td>Up Чеддер Начос Кинг с курицей</td>\n",
       "      <td>NaN</td>\n",
       "      <td>Закуски</td>\n",
       "      <td>NaN</td>\n",
       "    </tr>\n",
       "    <tr>\n",
       "      <th>1047</th>\n",
       "      <td>lim.Кола без сахара мал 0,4</td>\n",
       "      <td>Кола без сахара</td>\n",
       "      <td>Холодные напитки</td>\n",
       "      <td>109.99</td>\n",
       "    </tr>\n",
       "    <tr>\n",
       "      <th>1048</th>\n",
       "      <td>Острый Тройной Воппер</td>\n",
       "      <td>Воппер</td>\n",
       "      <td>Говядина</td>\n",
       "      <td>269.99</td>\n",
       "    </tr>\n",
       "  </tbody>\n",
       "</table>\n",
       "<p>1049 rows × 4 columns</p>\n",
       "</div>"
      ],
      "text/plain": [
       "                           dish_name        item_name     item_category   \n",
       "0                     Кинг Фри станд         Кинг Фри         Картофель  \\\n",
       "1                      Чикен Тар-Тар    Чикен Тар-Тар            Курица   \n",
       "2                        Соус Сырный      Соус Сырный             Соусы   \n",
       "3         Энергет.нап. Адреналин Раш              NaN  Холодные напитки   \n",
       "4                     Латте (СТАНД.)            Латте   Горячие напитки   \n",
       "...                              ...              ...               ...   \n",
       "1044  Up Латте Ваниль (БОЛ.) за 1руб            Латте   Горячие напитки   \n",
       "1045                  Севен Ап XL 1л              NaN  Холодные напитки   \n",
       "1046  Up Чеддер Начос Кинг с курицей              NaN           Закуски   \n",
       "1047     lim.Кола без сахара мал 0,4  Кола без сахара  Холодные напитки   \n",
       "1048           Острый Тройной Воппер           Воппер          Говядина   \n",
       "\n",
       "     item_price  \n",
       "0         84.99  \n",
       "1        205.99  \n",
       "2         49.99  \n",
       "3           NaN  \n",
       "4         69.99  \n",
       "...         ...  \n",
       "1044      69.99  \n",
       "1045        NaN  \n",
       "1046        NaN  \n",
       "1047     109.99  \n",
       "1048     269.99  \n",
       "\n",
       "[1049 rows x 4 columns]"
      ]
     },
     "execution_count": 478,
     "metadata": {},
     "output_type": "execute_result"
    }
   ],
   "source": [
    "merged_df"
   ]
  },
  {
   "cell_type": "code",
   "execution_count": null,
   "id": "8b1431ee-f7d7-464d-9657-11d8f844070e",
   "metadata": {},
   "outputs": [],
   "source": []
  }
 ],
 "metadata": {
  "kernelspec": {
   "display_name": "Python 3 (ipykernel)",
   "language": "python",
   "name": "python3"
  },
  "language_info": {
   "codemirror_mode": {
    "name": "ipython",
    "version": 3
   },
   "file_extension": ".py",
   "mimetype": "text/x-python",
   "name": "python",
   "nbconvert_exporter": "python",
   "pygments_lexer": "ipython3",
   "version": "3.11.3"
  }
 },
 "nbformat": 4,
 "nbformat_minor": 5
}
